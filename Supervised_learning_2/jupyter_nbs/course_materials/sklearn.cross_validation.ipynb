{
 "cells": [
  {
   "cell_type": "markdown",
   "metadata": {},
   "source": [
    "# Sklearn"
   ]
  },
  {
   "cell_type": "markdown",
   "metadata": {},
   "source": [
    "## sklearn.model_selection"
   ]
  },
  {
   "cell_type": "markdown",
   "metadata": {},
   "source": [
    "документация: http://scikit-learn.org/stable/modules/cross_validation.html"
   ]
  },
  {
   "cell_type": "code",
   "execution_count": 1,
   "metadata": {},
   "outputs": [],
   "source": [
    "from sklearn import model_selection, datasets\n",
    "import pandas as pd\n",
    "import numpy as np"
   ]
  },
  {
   "cell_type": "markdown",
   "metadata": {},
   "source": [
    "### Разовое разбиение данных на обучение и тест с помощью train_test_split"
   ]
  },
  {
   "cell_type": "code",
   "execution_count": 3,
   "metadata": {},
   "outputs": [],
   "source": [
    "iris = datasets.load_iris()"
   ]
  },
  {
   "cell_type": "code",
   "execution_count": 6,
   "metadata": {},
   "outputs": [],
   "source": [
    "train_data, test_data, train_labels, test_labels = model_selection.train_test_split(iris.data, iris.target, \n",
    "                                                                                     test_size = 0.3)"
   ]
  },
  {
   "cell_type": "code",
   "execution_count": 7,
   "metadata": {},
   "outputs": [
    {
     "data": {
      "text/plain": [
       "0.3"
      ]
     },
     "execution_count": 7,
     "metadata": {},
     "output_type": "execute_result"
    }
   ],
   "source": [
    "#убедимся, что тестовая выборка действительно составляет 0.3 от всех данных\n",
    "float(len(test_labels))/len(iris.data)"
   ]
  },
  {
   "cell_type": "code",
   "execution_count": 8,
   "metadata": {},
   "outputs": [
    {
     "name": "stdout",
     "output_type": "stream",
     "text": [
      "Размер обучающей выборки: 105 объектов \n",
      "Размер тестовой выборки: 45 объектов\n"
     ]
    }
   ],
   "source": [
    "print('Размер обучающей выборки: {} объектов \\nРазмер тестовой выборки: {} объектов'.format(len(train_data),\n",
    "                                                                                            len(test_data)))"
   ]
  },
  {
   "cell_type": "code",
   "execution_count": 9,
   "metadata": {},
   "outputs": [
    {
     "name": "stdout",
     "output_type": "stream",
     "text": [
      "Обучающая выборка:\n",
      " [[5.8 2.7 5.1 1.9]\n",
      " [5.3 3.7 1.5 0.2]\n",
      " [5.8 2.6 4.  1.2]\n",
      " [5.1 3.7 1.5 0.4]\n",
      " [5.5 2.4 3.8 1.1]]\n",
      "\n",
      "\n",
      "Тестовая выборка:\n",
      " [[5.2 3.4 1.4 0.2]\n",
      " [7.1 3.  5.9 2.1]\n",
      " [7.6 3.  6.6 2.1]\n",
      " [7.2 3.6 6.1 2.5]\n",
      " [6.3 2.7 4.9 1.8]]\n"
     ]
    }
   ],
   "source": [
    "print('Обучающая выборка:\\n', train_data[:5])\n",
    "print('\\n')\n",
    "print('Тестовая выборка:\\n', test_data[:5])"
   ]
  },
  {
   "cell_type": "code",
   "execution_count": 7,
   "metadata": {},
   "outputs": [
    {
     "name": "stdout",
     "output_type": "stream",
     "text": [
      "Метки классов на обучающей выборке:\n",
      " [1 0 0 2 1 2 1 2 1 0 2 2 2 0 0 1 0 1 1 0 2 1 0 2 2 0 2 1 1 0 0 0 0 2 0 0 1\n",
      " 2 2 1 1 0 2 2 2 1 1 2 0 0 0 1 2 0 2 1 1 0 1 0 2 1 2 1 2 1 2 2 0 2 0 1 0 1\n",
      " 1 1 0 2 2 1 1 0 1 2 0 2 1 1 0 0 2 2 1 1 0 1 1 0 0 1 2 2 2 2 1]\n",
      "\n",
      "\n",
      "Метки классов на тестовой выборке:\n",
      " [1 2 1 0 2 0 0 1 0 1 2 0 2 1 0 2 0 2 2 0 2 2 2 0 0 1 2 1 2 0 0 1 0 1 2 1 0\n",
      " 0 1 0 0 2 2 1 1]\n"
     ]
    }
   ],
   "source": [
    "print('Метки классов на обучающей выборке:\\n', train_labels)\n",
    "print('\\n')\n",
    "print('Метки классов на тестовой выборке:\\n', test_labels)"
   ]
  },
  {
   "cell_type": "markdown",
   "metadata": {},
   "source": [
    "### Стратегии проведения кросс-валидации"
   ]
  },
  {
   "cell_type": "code",
   "execution_count": 10,
   "metadata": {},
   "outputs": [],
   "source": [
    "#сгенерируем короткое подобие датасета, где элементы совпадают с порядковым номером\n",
    "X = range(0,10)\n",
    "pd_iris = pd.DataFrame(iris.data, columns= iris.feature_names)"
   ]
  },
  {
   "cell_type": "markdown",
   "metadata": {},
   "source": [
    "#### KFold"
   ]
  },
  {
   "cell_type": "code",
   "execution_count": 14,
   "metadata": {},
   "outputs": [
    {
     "name": "stdout",
     "output_type": "stream",
     "text": [
      "[2 3 4 5 6 7 8 9] [0 1]\n",
      "[0 1 4 5 6 7 8 9] [2 3]\n",
      "[0 1 2 3 6 7 8 9] [4 5]\n",
      "[0 1 2 3 4 5 8 9] [6 7]\n",
      "[0 1 2 3 4 5 6 7] [8 9]\n"
     ]
    }
   ],
   "source": [
    "kf = model_selection.KFold(n_splits = 5)\n",
    "for train_indices, test_indices in kf.split(X):\n",
    "    print(train_indices, test_indices)"
   ]
  },
  {
   "cell_type": "code",
   "execution_count": 19,
   "metadata": {},
   "outputs": [
    {
     "name": "stdout",
     "output_type": "stream",
     "text": [
      "[0 1 2 3 4 7 8 9] [5 6]\n",
      "[0 1 3 4 5 6 8 9] [2 7]\n",
      "[0 2 4 5 6 7 8 9] [1 3]\n",
      "[1 2 3 5 6 7 8 9] [0 4]\n",
      "[0 1 2 3 4 5 6 7] [8 9]\n"
     ]
    }
   ],
   "source": [
    "kf = model_selection.KFold(n_splits = 5, shuffle = True)\n",
    "for train_indices, test_indices in kf.split(X):\n",
    "    print(train_indices, test_indices)"
   ]
  },
  {
   "cell_type": "code",
   "execution_count": 21,
   "metadata": {},
   "outputs": [
    {
     "name": "stdout",
     "output_type": "stream",
     "text": [
      "[1 3 5 7 8] [0 2 4 6 9]\n",
      "[0 2 4 6 9] [1 3 5 7 8]\n"
     ]
    }
   ],
   "source": [
    "kf = model_selection.KFold(n_splits = 2, shuffle = True, random_state = 1)\n",
    "for train_indices, test_indices in kf.split(X):\n",
    "    print(train_indices, test_indices)"
   ]
  },
  {
   "cell_type": "markdown",
   "metadata": {},
   "source": [
    "#### StratifiedKFold"
   ]
  },
  {
   "cell_type": "code",
   "execution_count": 25,
   "metadata": {},
   "outputs": [
    {
     "name": "stdout",
     "output_type": "stream",
     "text": [
      "[0 0 0 0 0 1 1 1 1 1]\n",
      "[0 1 3 4 5 6 8 9] [2 7] [0 1]\n",
      "[1 2 3 4 6 7 8 9] [0 5] [0 1]\n",
      "[0 2 3 4 5 7 8 9] [1 6] [0 1]\n",
      "[0 1 2 4 5 6 7 9] [3 8] [0 1]\n",
      "[0 1 2 3 5 6 7 8] [4 9] [0 1]\n"
     ]
    }
   ],
   "source": [
    "y = np.array([0] * 5 + [1] * 5)\n",
    "print(y)\n",
    "\n",
    "skf = model_selection.StratifiedKFold(n_splits = 5, shuffle = True, random_state = 0)\n",
    "for train_indices, test_indices in skf.split(X, y):\n",
    "    print(train_indices, test_indices, y[test_indices])"
   ]
  },
  {
   "cell_type": "code",
   "execution_count": 52,
   "metadata": {},
   "outputs": [
    {
     "name": "stdout",
     "output_type": "stream",
     "text": [
      "[  0   1   3   5   6   7   8   9  12  13  14  15  16  17  18  19  20  21\n",
      "  23  24  25  26  29  30  32  33  34  35  36  37  39  40  42  43  44  45\n",
      "  46  47  48  49  50  51  53  55  56  57  58  59  62  63  64  65  66  67\n",
      "  68  69  70  71  73  74  75  76  79  80  82  83  84  85  86  87  89  90\n",
      "  92  93  94  95  96  97  98  99 100 101 103 105 106 107 108 109 112 113\n",
      " 114 115 116 117 118 119 120 121 123 124 125 126 129 130 132 133 134 135\n",
      " 136 137 139 140 142 143 144 145 146 147 148 149] [  2   4  10  11  22  27  28  31  38  41  52  54  60  61  72  77  78  81\n",
      "  88  91 102 104 110 111 122 127 128 131 138 141]\n",
      "[  0   1   2   3   4   5   6   8   9  10  11  12  13  15  16  17  19  20\n",
      "  21  22  23  24  25  27  28  30  31  32  36  37  38  39  40  41  42  43\n",
      "  44  46  47  49  50  51  52  53  54  55  56  58  59  60  61  62  63  65\n",
      "  66  67  69  70  71  72  73  74  75  77  78  80  81  82  86  87  88  89\n",
      "  90  91  92  93  94  96  97  99 100 101 102 103 104 105 106 108 109 110\n",
      " 111 112 113 115 116 117 119 120 121 122 123 124 125 127 128 130 131 132\n",
      " 136 137 138 139 140 141 142 143 144 146 147 149] [  7  14  18  26  29  33  34  35  45  48  57  64  68  76  79  83  84  85\n",
      "  95  98 107 114 118 126 129 133 134 135 145 148]\n",
      "[  0   1   2   3   4   5   6   7   9  10  11  12  14  17  18  19  21  22\n",
      "  23  24  26  27  28  29  31  33  34  35  36  37  38  39  40  41  44  45\n",
      "  46  47  48  49  50  51  52  53  54  55  56  57  59  60  61  62  64  67\n",
      "  68  69  71  72  73  74  76  77  78  79  81  83  84  85  86  87  88  89\n",
      "  90  91  94  95  96  97  98  99 100 101 102 103 104 105 106 107 109 110\n",
      " 111 112 114 117 118 119 121 122 123 124 126 127 128 129 131 133 134 135\n",
      " 136 137 138 139 140 141 144 145 146 147 148 149] [  8  13  15  16  20  25  30  32  42  43  58  63  65  66  70  75  80  82\n",
      "  92  93 108 113 115 116 120 125 130 132 142 143]\n",
      "[  0   2   3   4   7   8   9  10  11  13  14  15  16  18  19  20  21  22\n",
      "  25  26  27  28  29  30  31  32  33  34  35  36  38  39  41  42  43  44\n",
      "  45  46  47  48  50  52  53  54  57  58  59  60  61  63  64  65  66  68\n",
      "  69  70  71  72  75  76  77  78  79  80  81  82  83  84  85  86  88  89\n",
      "  91  92  93  94  95  96  97  98 100 102 103 104 107 108 109 110 111 113\n",
      " 114 115 116 118 119 120 121 122 125 126 127 128 129 130 131 132 133 134\n",
      " 135 136 138 139 141 142 143 144 145 146 147 148] [  1   5   6  12  17  23  24  37  40  49  51  55  56  62  67  73  74  87\n",
      "  90  99 101 105 106 112 117 123 124 137 140 149]\n",
      "[  1   2   4   5   6   7   8  10  11  12  13  14  15  16  17  18  20  22\n",
      "  23  24  25  26  27  28  29  30  31  32  33  34  35  37  38  40  41  42\n",
      "  43  45  48  49  51  52  54  55  56  57  58  60  61  62  63  64  65  66\n",
      "  67  68  70  72  73  74  75  76  77  78  79  80  81  82  83  84  85  87\n",
      "  88  90  91  92  93  95  98  99 101 102 104 105 106 107 108 110 111 112\n",
      " 113 114 115 116 117 118 120 122 123 124 125 126 127 128 129 130 131 132\n",
      " 133 134 135 137 138 140 141 142 143 145 148 149] [  0   3   9  19  21  36  39  44  46  47  50  53  59  69  71  86  89  94\n",
      "  96  97 100 103 109 119 121 136 139 144 146 147]\n"
     ]
    }
   ],
   "source": [
    "for train_indices, test_indices in skf.split(iris.data, iris.target):\n",
    "    print(train_indices, test_indices)"
   ]
  },
  {
   "cell_type": "code",
   "execution_count": 61,
   "metadata": {},
   "outputs": [],
   "source": [
    "x_train = iris.data[train_indices]\n",
    "y_train = iris.target[train_indices]"
   ]
  },
  {
   "cell_type": "code",
   "execution_count": 63,
   "metadata": {},
   "outputs": [
    {
     "data": {
      "text/plain": [
       "True"
      ]
     },
     "execution_count": 63,
     "metadata": {},
     "output_type": "execute_result"
    }
   ],
   "source": [
    "len(x_train) == len(y_train)"
   ]
  },
  {
   "cell_type": "code",
   "execution_count": 67,
   "metadata": {},
   "outputs": [
    {
     "name": "stdout",
     "output_type": "stream",
     "text": [
      "[0 1 0 1 0 1 0 1 0 1]\n",
      "[0 4 5 9] [1 2 3 6 7 8]\n",
      "[1 2 3 6 7 8] [0 4 5 9]\n"
     ]
    }
   ],
   "source": [
    "target = np.array([0, 1] * 5)\n",
    "print(target)\n",
    "\n",
    "skf = model_selection.StratifiedKFold(n_splits = 2,shuffle = True)\n",
    "for train_indices, test_indices in skf.split(X, target):\n",
    "    print(train_indices, test_indices)"
   ]
  },
  {
   "cell_type": "markdown",
   "metadata": {},
   "source": [
    "#### ShuffleSplit"
   ]
  },
  {
   "cell_type": "code",
   "execution_count": 68,
   "metadata": {},
   "outputs": [
    {
     "name": "stdout",
     "output_type": "stream",
     "text": [
      "[2 6 8 0 3 4 1 7] [9 5]\n",
      "[8 9 5 2 1 3 0 7] [6 4]\n",
      "[3 5 6 0 1 9 7 2] [4 8]\n",
      "[5 9 2 3 4 8 6 1] [0 7]\n",
      "[8 7 1 0 5 2 4 9] [6 3]\n",
      "[9 2 0 5 1 4 8 3] [6 7]\n",
      "[5 3 8 4 0 2 9 7] [1 6]\n",
      "[6 8 4 0 2 9 7 5] [3 1]\n",
      "[3 8 7 0 4 6 2 1] [5 9]\n",
      "[2 4 6 0 8 3 9 5] [1 7]\n"
     ]
    }
   ],
   "source": [
    "ss = model_selection.ShuffleSplit(n_splits = 10, test_size = 0.2)\n",
    "\n",
    "for train_indices, test_indices in ss.split(X):\n",
    "    print(train_indices, test_indices)"
   ]
  },
  {
   "cell_type": "markdown",
   "metadata": {},
   "source": [
    "#### StratifiedShuffleSplit"
   ]
  },
  {
   "cell_type": "code",
   "execution_count": 28,
   "metadata": {},
   "outputs": [
    {
     "name": "stdout",
     "output_type": "stream",
     "text": [
      "[0 0 0 0 0 1 1 1 1 1]\n",
      "[8 0 5 3 4 7 9 2] [1 6]\n",
      "[7 1 4 5 2 6 9 3] [8 0]\n",
      "[6 3 8 7 4 2 0 5] [1 9]\n",
      "[0 2 1 6 3 5 8 9] [4 7]\n"
     ]
    }
   ],
   "source": [
    "target = np.array([0] * 5 + [1] * 5)\n",
    "print(target)\n",
    "\n",
    "sss = model_selection.StratifiedShuffleSplit(n_splits = 4, test_size = 0.2)\n",
    "for train_indices, test_indices in sss.split(X, target):\n",
    "    print(train_indices, test_indices)"
   ]
  },
  {
   "cell_type": "markdown",
   "metadata": {},
   "source": [
    "#### Leave-One-Out"
   ]
  },
  {
   "cell_type": "code",
   "execution_count": 72,
   "metadata": {},
   "outputs": [
    {
     "name": "stdout",
     "output_type": "stream",
     "text": [
      "[1 2 3 4 5 6 7 8 9] [0]\n",
      "[0 2 3 4 5 6 7 8 9] [1]\n",
      "[0 1 3 4 5 6 7 8 9] [2]\n",
      "[0 1 2 4 5 6 7 8 9] [3]\n",
      "[0 1 2 3 5 6 7 8 9] [4]\n",
      "[0 1 2 3 4 6 7 8 9] [5]\n",
      "[0 1 2 3 4 5 7 8 9] [6]\n",
      "[0 1 2 3 4 5 6 8 9] [7]\n",
      "[0 1 2 3 4 5 6 7 9] [8]\n",
      "[0 1 2 3 4 5 6 7 8] [9]\n"
     ]
    }
   ],
   "source": [
    "loo = model_selection.LeaveOneOut()\n",
    "\n",
    "for train_indices, test_index in loo.split(X):\n",
    "    print(train_indices, test_index)"
   ]
  },
  {
   "cell_type": "markdown",
   "metadata": {},
   "source": [
    "Больше стратегий проведения кросс-валидации доступно здесь: http://scikit-learn.org/stable/modules/cross_validation.html#cross-validation-iterators"
   ]
  }
 ],
 "metadata": {
  "anaconda-cloud": {},
  "kernelspec": {
   "display_name": "Python 3",
   "language": "python",
   "name": "python3"
  },
  "language_info": {
   "codemirror_mode": {
    "name": "ipython",
    "version": 3
   },
   "file_extension": ".py",
   "mimetype": "text/x-python",
   "name": "python",
   "nbconvert_exporter": "python",
   "pygments_lexer": "ipython3",
   "version": "3.7.0"
  }
 },
 "nbformat": 4,
 "nbformat_minor": 1
}
