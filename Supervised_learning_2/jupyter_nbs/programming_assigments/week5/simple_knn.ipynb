{
 "cells": [
  {
   "cell_type": "code",
   "execution_count": 3,
   "metadata": {
    "ExecuteTime": {
     "end_time": "2018-03-17T14:17:33.929551Z",
     "start_time": "2018-03-17T14:17:33.906539Z"
    }
   },
   "outputs": [],
   "source": [
    "import pandas as pd\n",
    "import numpy as np\n",
    "\n",
    "\n",
    "from tqdm import tqdm, tqdm_notebook\n",
    "\n",
    "from matplotlib import pyplot as plt\n",
    "\n",
    "from sklearn import datasets\n",
    "from sklearn.model_selection import train_test_split\n",
    "from sklearn.metrics import accuracy_score, zero_one_loss\n",
    "\n",
    "\n",
    "%matplotlib inline"
   ]
  },
  {
   "cell_type": "code",
   "execution_count": 4,
   "metadata": {
    "ExecuteTime": {
     "end_time": "2018-03-17T10:21:33.629222Z",
     "start_time": "2018-03-17T10:21:33.347092Z"
    }
   },
   "outputs": [],
   "source": [
    "X, y = datasets.load_digits()[\"data\"], datasets.load_digits()[\"target\"]"
   ]
  },
  {
   "cell_type": "code",
   "execution_count": 5,
   "metadata": {
    "ExecuteTime": {
     "end_time": "2018-03-17T14:19:59.506344Z",
     "start_time": "2018-03-17T14:19:59.497644Z"
    }
   },
   "outputs": [],
   "source": [
    "X_train, X_test, y_train, y_test = train_test_split(X, y, test_size = 0.25, random_state = 42, shuffle = False)"
   ]
  },
  {
   "cell_type": "markdown",
   "metadata": {},
   "source": [
    "### Simple KNN classifier without weights and with minkowski metric"
   ]
  },
  {
   "cell_type": "markdown",
   "metadata": {},
   "source": [
    "Attention! Slow as molasses in January :-("
   ]
  },
  {
   "cell_type": "code",
   "execution_count": 12,
   "metadata": {
    "ExecuteTime": {
     "end_time": "2018-03-17T14:21:32.442544Z",
     "start_time": "2018-03-17T14:21:32.371221Z"
    }
   },
   "outputs": [],
   "source": [
    "class KNeighborsClassifier():\n",
    "    \n",
    "    def __init__(self, k=1, q=2):\n",
    "        self.k = k\n",
    "        self.q = q\n",
    "        self.X_train = None\n",
    "        self.y_train = None\n",
    "        \n",
    "    def distance(self, dot1, dot2):\n",
    "        return (np.sum(abs((dot1 - dot2))**self.q))**1/self.q\n",
    "    \n",
    "    def _max_k_class(self, distance_tuple):\n",
    "        distance_list.sort()\n",
    "        \n",
    "        class_list = [i[1] for i in distance_tuple[:self.k]]\n",
    "        counts = pd.value_counts(class_list)\n",
    "        return counts.idxmax()\n",
    "    \n",
    "    def fit(self, X, y):\n",
    "        self.X_train = X\n",
    "        self.y_train = y\n",
    "        print(\"Lazy training: OK\")\n",
    "    \n",
    "    def predict(self, X):\n",
    "        predictions = []\n",
    "        \n",
    "        for pred_vec in X:\n",
    "            pred_vec_dist = []\n",
    "            \n",
    "            for index, train_vec in enumerate(self.X_train):\n",
    "                pred_vec_dist.append((self.distance(pred_vec, train_vec), self.y_train[index]))\n",
    "                \n",
    "            predictions.append(self._max_k_class(pred_vec_dist))\n",
    "        return predictions        "
   ]
  },
  {
   "cell_type": "code",
   "execution_count": 15,
   "metadata": {
    "ExecuteTime": {
     "end_time": "2018-03-17T13:17:17.009761Z",
     "start_time": "2018-03-17T13:09:06.349506Z"
    }
   },
   "outputs": [
    {
     "data": {
      "application/vnd.jupyter.widget-view+json": {
       "model_id": "6126e528c8fa483183d1de122cb9717f",
       "version_major": 2,
       "version_minor": 0
      },
      "text/plain": [
       "HBox(children=(IntProgress(value=0, max=15), HTML(value='')))"
      ]
     },
     "metadata": {},
     "output_type": "display_data"
    },
    {
     "name": "stdout",
     "output_type": "stream",
     "text": [
      "Lazy training: OK\n",
      "Lazy training: OK\n",
      "Lazy training: OK\n",
      "Lazy training: OK\n",
      "Lazy training: OK\n",
      "Lazy training: OK\n",
      "Lazy training: OK\n",
      "Lazy training: OK\n",
      "Lazy training: OK\n",
      "Lazy training: OK\n",
      "Lazy training: OK\n",
      "Lazy training: OK\n",
      "Lazy training: OK\n",
      "Lazy training: OK\n",
      "Lazy training: OK\n"
     ]
    }
   ],
   "source": [
    "acc_test = []\n",
    "acc_train = []\n",
    "for i in tqdm_notebook(np.arange(1, 30, 2)):  \n",
    "    knn = KNeighborsClassifier(k = i)\n",
    "    knn.fit(X_train, y_train)\n",
    "    acc_test.append(accuracy_score(y_test, knn.predict(X_test)))\n",
    "    acc_train.append(accuracy_score(y_train, knn.predict(X_train)))"
   ]
  },
  {
   "cell_type": "code",
   "execution_count": 16,
   "metadata": {
    "ExecuteTime": {
     "end_time": "2018-03-17T13:33:47.660670Z",
     "start_time": "2018-03-17T13:33:47.257478Z"
    }
   },
   "outputs": [
    {
     "data": {
      "text/plain": [
       "<matplotlib.legend.Legend at 0x116f55a20>"
      ]
     },
     "execution_count": 16,
     "metadata": {},
     "output_type": "execute_result"
    },
    {
     "data": {
      "image/png": "[encoded data removed]",
      "text/plain": [
       "<Figure size 864x576 with 1 Axes>"
      ]
     },
     "metadata": {
      "needs_background": "light"
     },
     "output_type": "display_data"
    }
   ],
   "source": [
    "plt.figure(figsize = (12, 8))\n",
    "plt.plot(np.arange(1, 30, 2), acc_test, label = \"test\")\n",
    "plt.plot(np.arange(1, 30, 2), acc_train, label = \"train\")\n",
    "plt.xlabel(\"K-Neighbors\")\n",
    "plt.ylabel(\"Accuracy score\")\n",
    "plt.legend()"
   ]
  },
  {
   "cell_type": "code",
   "execution_count": null,
   "metadata": {},
   "outputs": [],
   "source": []
  }
 ],
 "metadata": {
  "kernelspec": {
   "display_name": "Python 3",
   "language": "python",
   "name": "python3"
  },
  "language_info": {
   "codemirror_mode": {
    "name": "ipython",
    "version": 3
   },
   "file_extension": ".py",
   "mimetype": "text/x-python",
   "name": "python",
   "nbconvert_exporter": "python",
   "pygments_lexer": "ipython3",
   "version": "3.7.0"
  }
 },
 "nbformat": 4,
 "nbformat_minor": 2
}
