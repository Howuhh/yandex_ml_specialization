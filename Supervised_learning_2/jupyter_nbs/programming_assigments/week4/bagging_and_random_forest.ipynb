{
 "cells": [
  {
   "cell_type": "code",
   "execution_count": 1,
   "metadata": {
    "ExecuteTime": {
     "end_time": "2018-02-27T13:45:25.480089Z",
     "start_time": "2018-02-27T13:45:25.398003Z"
    }
   },
   "outputs": [],
   "source": [
    "from sklearn import datasets\n",
    "from sklearn.model_selection import cross_val_score\n",
    "from sklearn.tree import DecisionTreeClassifier\n",
    "from sklearn.ensemble import BaggingClassifier, RandomForestClassifier\n",
    "\n",
    "\n",
    "import numpy as np"
   ]
  },
  {
   "cell_type": "code",
   "execution_count": 2,
   "metadata": {
    "ExecuteTime": {
     "end_time": "2018-02-27T13:45:26.078487Z",
     "start_time": "2018-02-27T13:45:25.630812Z"
    }
   },
   "outputs": [],
   "source": [
    "data = datasets.load_digits()\n",
    "X, y = data.data, data.target"
   ]
  },
  {
   "cell_type": "markdown",
   "metadata": {},
   "source": [
    "## Задание 1"
   ]
  },
  {
   "cell_type": "code",
   "execution_count": 3,
   "metadata": {
    "ExecuteTime": {
     "end_time": "2018-02-27T13:53:21.836035Z",
     "start_time": "2018-02-27T13:53:21.828654Z"
    }
   },
   "outputs": [],
   "source": [
    "tree = DecisionTreeClassifier()\n",
    "cv = 10"
   ]
  },
  {
   "cell_type": "code",
   "execution_count": 4,
   "metadata": {
    "ExecuteTime": {
     "end_time": "2018-02-27T13:53:22.758316Z",
     "start_time": "2018-02-27T13:53:22.059682Z"
    }
   },
   "outputs": [],
   "source": [
    "ans_1 = cross_val_score(tree, X, y, cv = cv, n_jobs = -1).mean()"
   ]
  },
  {
   "cell_type": "code",
   "execution_count": 109,
   "metadata": {
    "ExecuteTime": {
     "end_time": "2018-02-27T13:53:22.768366Z",
     "start_time": "2018-02-27T13:53:22.761134Z"
    }
   },
   "outputs": [],
   "source": [
    "with open(\"ans1.txt\", \"w\") as ans1:\n",
    "    ans1.write(str(ans_1))"
   ]
  },
  {
   "cell_type": "code",
   "execution_count": 5,
   "metadata": {
    "ExecuteTime": {
     "end_time": "2018-02-27T13:53:23.784515Z",
     "start_time": "2018-02-27T13:53:23.629191Z"
    }
   },
   "outputs": [
    {
     "name": "stdout",
     "output_type": "stream",
     "text": [
      "0.834197615158"
     ]
    }
   ],
   "source": [
    "!cat ans1.txt"
   ]
  },
  {
   "cell_type": "markdown",
   "metadata": {},
   "source": [
    "## Задание 2"
   ]
  },
  {
   "cell_type": "code",
   "execution_count": 6,
   "metadata": {
    "ExecuteTime": {
     "end_time": "2018-02-27T13:54:13.719139Z",
     "start_time": "2018-02-27T13:54:13.713281Z"
    }
   },
   "outputs": [],
   "source": [
    "bag_tree = BaggingClassifier(tree, n_estimators=100)\n",
    "n_features = int(np.sqrt(X.shape[1]))"
   ]
  },
  {
   "cell_type": "code",
   "execution_count": 121,
   "metadata": {
    "ExecuteTime": {
     "end_time": "2018-02-27T13:54:13.852291Z",
     "start_time": "2018-02-27T13:54:13.838500Z"
    }
   },
   "outputs": [
    {
     "data": {
      "text/plain": [
       "(8, (1797, 64))"
      ]
     },
     "execution_count": 121,
     "metadata": {},
     "output_type": "execute_result"
    }
   ],
   "source": [
    "n_features, X.shape"
   ]
  },
  {
   "cell_type": "code",
   "execution_count": 122,
   "metadata": {
    "ExecuteTime": {
     "end_time": "2018-02-27T13:54:19.851884Z",
     "start_time": "2018-02-27T13:54:13.985140Z"
    }
   },
   "outputs": [],
   "source": [
    "ans_2 = cross_val_score(bag_tree, X, y, cv = cv, n_jobs = -1).mean()"
   ]
  },
  {
   "cell_type": "code",
   "execution_count": 123,
   "metadata": {
    "ExecuteTime": {
     "end_time": "2018-02-27T13:54:19.860471Z",
     "start_time": "2018-02-27T13:54:19.854978Z"
    }
   },
   "outputs": [],
   "source": [
    "with open(\"ans2.txt\", \"w\") as ans2:\n",
    "    ans2.write(str(ans_2))"
   ]
  },
  {
   "cell_type": "code",
   "execution_count": 124,
   "metadata": {
    "ExecuteTime": {
     "end_time": "2018-02-27T13:54:20.005277Z",
     "start_time": "2018-02-27T13:54:19.863648Z"
    }
   },
   "outputs": [
    {
     "name": "stdout",
     "output_type": "stream",
     "text": [
      "0.925516387895"
     ]
    }
   ],
   "source": [
    "!cat ans2.txt"
   ]
  },
  {
   "cell_type": "markdown",
   "metadata": {},
   "source": [
    "## Задание 3"
   ]
  },
  {
   "cell_type": "code",
   "execution_count": 7,
   "metadata": {
    "ExecuteTime": {
     "end_time": "2018-02-27T13:55:02.617408Z",
     "start_time": "2018-02-27T13:55:02.612250Z"
    }
   },
   "outputs": [],
   "source": [
    "bag_tree_d = BaggingClassifier(tree, n_estimators = 100, max_features = n_features)"
   ]
  },
  {
   "cell_type": "code",
   "execution_count": 8,
   "metadata": {
    "ExecuteTime": {
     "end_time": "2018-02-27T13:55:04.782177Z",
     "start_time": "2018-02-27T13:55:03.137671Z"
    }
   },
   "outputs": [],
   "source": [
    "ans_3 = cross_val_score(bag_tree_d, X, y, cv = cv, n_jobs = -1).mean()"
   ]
  },
  {
   "cell_type": "code",
   "execution_count": 9,
   "metadata": {
    "ExecuteTime": {
     "end_time": "2018-02-27T13:55:04.791313Z",
     "start_time": "2018-02-27T13:55:04.785314Z"
    }
   },
   "outputs": [],
   "source": [
    "with open(\"ans3.txt\", \"w\") as ans3:\n",
    "    ans3.write(str(ans_3))"
   ]
  },
  {
   "cell_type": "code",
   "execution_count": 10,
   "metadata": {
    "ExecuteTime": {
     "end_time": "2018-02-27T13:55:04.935935Z",
     "start_time": "2018-02-27T13:55:04.796103Z"
    }
   },
   "outputs": [
    {
     "name": "stdout",
     "output_type": "stream",
     "text": [
      "0.9309276450300279"
     ]
    }
   ],
   "source": [
    "!cat ans3.txt"
   ]
  },
  {
   "cell_type": "markdown",
   "metadata": {
    "ExecuteTime": {
     "end_time": "2018-02-24T13:08:23.491647Z",
     "start_time": "2018-02-24T13:08:23.486457Z"
    }
   },
   "source": [
    "Здесь, каждое дерево строится на своей рандомной выборке из n_features признаков. "
   ]
  },
  {
   "cell_type": "markdown",
   "metadata": {},
   "source": [
    "## Задание 4"
   ]
  },
  {
   "cell_type": "code",
   "execution_count": 155,
   "metadata": {
    "ExecuteTime": {
     "end_time": "2018-02-27T13:56:22.818944Z",
     "start_time": "2018-02-27T13:56:22.813500Z"
    }
   },
   "outputs": [],
   "source": [
    "ds_tree_d = BaggingClassifier(DecisionTreeClassifier(max_features=n_features), n_estimators=100)"
   ]
  },
  {
   "cell_type": "code",
   "execution_count": 156,
   "metadata": {
    "ExecuteTime": {
     "end_time": "2018-02-27T13:56:16.921541Z",
     "start_time": "2018-02-27T13:56:23.344702Z"
    }
   },
   "outputs": [],
   "source": [
    "ans_4 = cross_val_score(ds_tree_d, X, y, cv = cv, n_jobs = -1).mean()"
   ]
  },
  {
   "cell_type": "code",
   "execution_count": 157,
   "metadata": {
    "ExecuteTime": {
     "end_time": "2018-02-27T13:56:16.930600Z",
     "start_time": "2018-02-27T13:56:16.924707Z"
    }
   },
   "outputs": [],
   "source": [
    "with open(\"ans4.txt\", \"w\") as ans4:\n",
    "    ans4.write(str(ans_4))"
   ]
  },
  {
   "cell_type": "code",
   "execution_count": 158,
   "metadata": {
    "ExecuteTime": {
     "end_time": "2018-02-27T13:56:17.075233Z",
     "start_time": "2018-02-27T13:56:16.935237Z"
    }
   },
   "outputs": [
    {
     "name": "stdout",
     "output_type": "stream",
     "text": [
      "0.946062559459"
     ]
    }
   ],
   "source": [
    "!cat ans4.txt"
   ]
  },
  {
   "cell_type": "markdown",
   "metadata": {},
   "source": [
    "Здесь мы строим баггинг над деревьями, но в каждом дереве разбиение выбирает по признакам множества d - рандомной выборки из всех возможных признаков. Работает лучше других методов."
   ]
  },
  {
   "cell_type": "markdown",
   "metadata": {},
   "source": [
    "## Задание 5"
   ]
  },
  {
   "cell_type": "code",
   "execution_count": 103,
   "metadata": {
    "ExecuteTime": {
     "end_time": "2018-02-24T13:09:15.200033Z",
     "start_time": "2018-02-24T13:09:15.193791Z"
    }
   },
   "outputs": [],
   "source": [
    "rf_tree = RandomForestClassifier(n_estimators=100, max_features=n_features)"
   ]
  },
  {
   "cell_type": "code",
   "execution_count": 104,
   "metadata": {
    "ExecuteTime": {
     "end_time": "2018-02-24T13:09:18.058944Z",
     "start_time": "2018-02-24T13:09:16.509921Z"
    }
   },
   "outputs": [
    {
     "data": {
      "text/plain": [
       "0.94558080612670692"
      ]
     },
     "execution_count": 104,
     "metadata": {},
     "output_type": "execute_result"
    }
   ],
   "source": [
    "cross_val_score(rf_tree, X, y, cv = cv, n_jobs = -1).mean()"
   ]
  },
  {
   "cell_type": "code",
   "execution_count": 97,
   "metadata": {
    "ExecuteTime": {
     "end_time": "2018-02-24T13:01:54.850784Z",
     "start_time": "2018-02-24T13:01:54.846117Z"
    }
   },
   "outputs": [],
   "source": [
    "ans_5 = [2,3,4,7]"
   ]
  },
  {
   "cell_type": "code",
   "execution_count": 98,
   "metadata": {
    "ExecuteTime": {
     "end_time": "2018-02-24T13:02:41.223891Z",
     "start_time": "2018-02-24T13:02:41.217547Z"
    }
   },
   "outputs": [],
   "source": [
    "with open(\"ans5.txt\", \"w\") as ans5:\n",
    "    ans5.write(\" \".join([str(i) for i in ans_5]))"
   ]
  },
  {
   "cell_type": "code",
   "execution_count": 99,
   "metadata": {
    "ExecuteTime": {
     "end_time": "2018-02-24T13:02:49.881721Z",
     "start_time": "2018-02-24T13:02:49.740022Z"
    }
   },
   "outputs": [
    {
     "name": "stdout",
     "output_type": "stream",
     "text": [
      "2 3 4 7"
     ]
    }
   ],
   "source": [
    "!cat ans5.txt"
   ]
  },
  {
   "cell_type": "markdown",
   "metadata": {
    "ExecuteTime": {
     "end_time": "2018-02-24T13:05:10.848508Z",
     "start_time": "2018-02-24T13:05:10.839518Z"
    }
   },
   "source": [
    "Краткие выводы:\n",
    "+ Рандомный лес - лучше обучать базовые деревья до макс глубины, \n",
    "    так их переобученность компенсируют друг друга и в итоге получается лучше. \n",
    "+ Лучше выбирать меньше признаков, тогда они более независимы, а их композиция работает лучше\n",
    "+  После некоторого числа деревьев, результат становится стабильным, без переобучения в целом."
   ]
  }
 ],
 "metadata": {
  "kernelspec": {
   "display_name": "Python 3",
   "language": "python",
   "name": "python3"
  },
  "language_info": {
   "codemirror_mode": {
    "name": "ipython",
    "version": 3
   },
   "file_extension": ".py",
   "mimetype": "text/x-python",
   "name": "python",
   "nbconvert_exporter": "python",
   "pygments_lexer": "ipython3",
   "version": "3.7.0"
  }
 },
 "nbformat": 4,
 "nbformat_minor": 2
}
